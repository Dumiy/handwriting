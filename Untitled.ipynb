{
 "cells": [
  {
   "cell_type": "code",
   "execution_count": 1,
   "metadata": {},
   "outputs": [],
   "source": [
    "import numpy as np\n",
    "import cv2 as cv\n",
    "import matplotlib.pyplot as plt\n",
    "import pandas as pd\n",
    "from PIL import Image"
   ]
  },
  {
   "cell_type": "code",
   "execution_count": 2,
   "metadata": {},
   "outputs": [],
   "source": [
    "from PIL import ImageOps\n",
    "def add_border(img, border):\n",
    "    a,b,c,d=border\n",
    "    if a != int(a) and b != int(b):\n",
    "        a+=1\n",
    "        b+=1\n",
    "    elif a != int(a):\n",
    "        a+=1\n",
    "    elif b != int(b):\n",
    "        b+=1\n",
    "    border = (int(a),int(b),int(c),int(d))\n",
    "    if isinstance(border, int) or isinstance(border, tuple):\n",
    "        bimg = ImageOps.expand(img, border=border,fill='black')\n",
    "    else:\n",
    "        raise RuntimeError('Border is not an integer or tuple!')\n",
    "    return bimg"
   ]
  },
  {
   "cell_type": "code",
   "execution_count": 3,
   "metadata": {},
   "outputs": [],
   "source": [
    "import os\n",
    "dataset_folder =r'Dataset_Signature_Final/DataSet/'\n",
    "desired_folders = ['dataset1/', 'dataset2/', 'dataset3/', 'dataset4/','dataset5/']\n",
    "folder_types = ['forge/','real/']\n",
    "\n",
    "dataSet= []\n",
    "\n",
    "for y in desired_folders:\n",
    "    aux = []\n",
    "    for z in folder_types:\n",
    "        temp = []\n",
    "        for root,dirr,file in os.walk(dataset_folder+y+z):\n",
    "            for x in file:\n",
    "                a = cv.imread(os.path.join(dataset_folder,y,z,x))\n",
    "                a = cv.GaussianBlur(a,(3,3),0)\n",
    "                a = cv.cvtColor(a, cv.COLOR_BGR2GRAY)\n",
    "                a = cv.Laplacian(a,cv.CV_16S,ksize=3)\n",
    "                a = cv.convertScaleAbs(a)\n",
    "                a = np.array(a)\n",
    "                temp.append(a)\n",
    "            break\n",
    "        temp = np.array(temp)\n",
    "        aux.append(temp)\n",
    "    dataSet.append(aux)"
   ]
  },
  {
   "cell_type": "code",
   "execution_count": 4,
   "metadata": {},
   "outputs": [],
   "source": [
    "def show(a):\n",
    "    cv.imshow('aaa',a)\n",
    "    cv.waitKey(0)\n",
    "    cv.destroyAllWindows()"
   ]
  },
  {
   "cell_type": "code",
   "execution_count": 5,
   "metadata": {},
   "outputs": [],
   "source": [
    "train = []\n",
    "for x in dataSet[0][0]:\n",
    "    train.append(x)\n",
    "for x in dataSet[0][1]:\n",
    "    train.append(x)"
   ]
  },
  {
   "cell_type": "code",
   "execution_count": 6,
   "metadata": {},
   "outputs": [],
   "source": [
    "show(train[1])"
   ]
  },
  {
   "cell_type": "code",
   "execution_count": 7,
   "metadata": {},
   "outputs": [
    {
     "data": {
      "text/html": [
       "<div>\n",
       "<style scoped>\n",
       "    .dataframe tbody tr th:only-of-type {\n",
       "        vertical-align: middle;\n",
       "    }\n",
       "\n",
       "    .dataframe tbody tr th {\n",
       "        vertical-align: top;\n",
       "    }\n",
       "\n",
       "    .dataframe thead th {\n",
       "        text-align: right;\n",
       "    }\n",
       "</style>\n",
       "<table border=\"1\" class=\"dataframe\">\n",
       "  <thead>\n",
       "    <tr style=\"text-align: right;\">\n",
       "      <th></th>\n",
       "      <th>img</th>\n",
       "    </tr>\n",
       "  </thead>\n",
       "  <tbody>\n",
       "    <tr>\n",
       "      <th>0</th>\n",
       "      <td>[[0, 0, 0, 0, 0, 0, 0, 0, 0, 0, 4, 0, 4, 4, 4,...</td>\n",
       "    </tr>\n",
       "    <tr>\n",
       "      <th>1</th>\n",
       "      <td>[[8, 4, 4, 4, 0, 0, 4, 4, 4, 4, 4, 4, 0, 4, 4,...</td>\n",
       "    </tr>\n",
       "    <tr>\n",
       "      <th>2</th>\n",
       "      <td>[[8, 4, 0, 0, 0, 0, 0, 0, 4, 4, 0, 0, 4, 8, 0,...</td>\n",
       "    </tr>\n",
       "    <tr>\n",
       "      <th>3</th>\n",
       "      <td>[[0, 4, 8, 4, 0, 0, 0, 0, 8, 0, 0, 0, 0, 0, 0,...</td>\n",
       "    </tr>\n",
       "    <tr>\n",
       "      <th>4</th>\n",
       "      <td>[[0, 0, 0, 0, 4, 4, 0, 0, 0, 0, 0, 4, 4, 4, 4,...</td>\n",
       "    </tr>\n",
       "  </tbody>\n",
       "</table>\n",
       "</div>"
      ],
      "text/plain": [
       "                                                 img\n",
       "0  [[0, 0, 0, 0, 0, 0, 0, 0, 0, 0, 4, 0, 4, 4, 4,...\n",
       "1  [[8, 4, 4, 4, 0, 0, 4, 4, 4, 4, 4, 4, 0, 4, 4,...\n",
       "2  [[8, 4, 0, 0, 0, 0, 0, 0, 4, 4, 0, 0, 4, 8, 0,...\n",
       "3  [[0, 4, 8, 4, 0, 0, 0, 0, 8, 0, 0, 0, 0, 0, 0,...\n",
       "4  [[0, 0, 0, 0, 4, 4, 0, 0, 0, 0, 0, 4, 4, 4, 4,..."
      ]
     },
     "execution_count": 7,
     "metadata": {},
     "output_type": "execute_result"
    }
   ],
   "source": [
    "train_data = pd.DataFrame({'img':train})\n",
    "train_data['img']=train_data['img'].to_numpy()\n",
    "train_data.head()"
   ]
  },
  {
   "cell_type": "code",
   "execution_count": 8,
   "metadata": {},
   "outputs": [],
   "source": [
    "y_labels = np.zeros(len(dataSet[0][0])+len(dataSet[0][1]))\n",
    "y_labels = y_labels.astype('bool')\n",
    "y_labels[len(dataSet[0][0]-1):] = 1"
   ]
  },
  {
   "cell_type": "code",
   "execution_count": 9,
   "metadata": {},
   "outputs": [],
   "source": [
    "train_data.insert(1,'valid',y_labels,True)"
   ]
  },
  {
   "cell_type": "code",
   "execution_count": 10,
   "metadata": {},
   "outputs": [
    {
     "data": {
      "text/plain": [
       "(83, 226)"
      ]
     },
     "execution_count": 10,
     "metadata": {},
     "output_type": "execute_result"
    }
   ],
   "source": [
    "train_data['img'][0].shape"
   ]
  },
  {
   "cell_type": "code",
   "execution_count": 11,
   "metadata": {},
   "outputs": [],
   "source": [
    "a,b=[],[]\n",
    "for x in train_data['img']:\n",
    "    a.append(x.shape[0])\n",
    "    b.append(x.shape[1])\n",
    "c,d=max(a),max(b)"
   ]
  },
  {
   "cell_type": "code",
   "execution_count": 12,
   "metadata": {},
   "outputs": [
    {
     "data": {
      "image/png": "[encoded data removed]",
      "text/plain": [
       "<Figure size 432x288 with 1 Axes>"
      ]
     },
     "metadata": {
      "needs_background": "light"
     },
     "output_type": "display_data"
    }
   ],
   "source": [
    "plt.imshow(train_data['img'][0])\n",
    "show(train_data['img'][0])"
   ]
  },
  {
   "cell_type": "code",
   "execution_count": 13,
   "metadata": {},
   "outputs": [],
   "source": [
    "train_data['img'] = train_data['img'].apply(lambda x: add_border(Image.fromarray(x),border=((d-x.shape[1])/2,(c-x.shape[0])/2,(d-x.shape[1])/2,(c-x.shape[0])/2)))\n",
    "train_data['img'] = train_data['img'].apply(lambda x: np.asarray(x))"
   ]
  },
  {
   "cell_type": "code",
   "execution_count": 14,
   "metadata": {},
   "outputs": [
    {
     "name": "stdout",
     "output_type": "stream",
     "text": [
      "131 343\n"
     ]
    }
   ],
   "source": [
    "a,b=[],[]\n",
    "for x in train_data['img']:\n",
    "    a.append(x.shape[0])\n",
    "    b.append(x.shape[1])\n",
    "c,d=max(a),max(b)\n",
    "print(c,d)"
   ]
  },
  {
   "cell_type": "code",
   "execution_count": 15,
   "metadata": {},
   "outputs": [
    {
     "data": {
      "image/png": "[encoded data removed]",
      "text/plain": [
       "<Figure size 432x288 with 1 Axes>"
      ]
     },
     "metadata": {
      "needs_background": "light"
     },
     "output_type": "display_data"
    }
   ],
   "source": [
    "plt.imshow(train_data['img'][0])\n",
    "show(train_data['img'][0])"
   ]
  },
  {
   "cell_type": "code",
   "execution_count": 16,
   "metadata": {},
   "outputs": [],
   "source": [
    "images = [x for x in train_data['img']]"
   ]
  },
  {
   "cell_type": "code",
   "execution_count": 17,
   "metadata": {},
   "outputs": [
    {
     "name": "stdout",
     "output_type": "stream",
     "text": [
      "(111, 131, 343, 1)\n"
     ]
    }
   ],
   "source": [
    "images = np.array(images)\n",
    "images = images[...,np.newaxis]\n",
    "print(images.shape)"
   ]
  },
  {
   "cell_type": "code",
   "execution_count": 18,
   "metadata": {},
   "outputs": [],
   "source": [
    "y_labels=y_labels[...,np.newaxis]\n",
    "show(images[0])"
   ]
  },
  {
   "cell_type": "code",
   "execution_count": 19,
   "metadata": {},
   "outputs": [
    {
     "name": "stderr",
     "output_type": "stream",
     "text": [
      "Using TensorFlow backend.\n",
      "WARNING: Logging before flag parsing goes to stderr.\n",
      "W1205 16:51:20.582743 12628 deprecation_wrapper.py:119] From c:\\users\\cdumitrascu\\.conda\\envs\\pythoncompvision\\lib\\site-packages\\keras\\backend\\tensorflow_backend.py:74: The name tf.get_default_graph is deprecated. Please use tf.compat.v1.get_default_graph instead.\n",
      "\n",
      "W1205 16:51:20.596742 12628 deprecation_wrapper.py:119] From c:\\users\\cdumitrascu\\.conda\\envs\\pythoncompvision\\lib\\site-packages\\keras\\backend\\tensorflow_backend.py:517: The name tf.placeholder is deprecated. Please use tf.compat.v1.placeholder instead.\n",
      "\n",
      "W1205 16:51:20.599706 12628 deprecation_wrapper.py:119] From c:\\users\\cdumitrascu\\.conda\\envs\\pythoncompvision\\lib\\site-packages\\keras\\backend\\tensorflow_backend.py:4138: The name tf.random_uniform is deprecated. Please use tf.random.uniform instead.\n",
      "\n",
      "W1205 16:51:20.612735 12628 deprecation_wrapper.py:119] From c:\\users\\cdumitrascu\\.conda\\envs\\pythoncompvision\\lib\\site-packages\\keras\\backend\\tensorflow_backend.py:3976: The name tf.nn.max_pool is deprecated. Please use tf.nn.max_pool2d instead.\n",
      "\n"
     ]
    },
    {
     "name": "stdout",
     "output_type": "stream",
     "text": [
      "(131, 343, 1)\n"
     ]
    }
   ],
   "source": [
    "from keras.layers import Dense,Dropout,Flatten,Conv2D,MaxPooling2D,Activation\n",
    "from keras.models import Sequential\n",
    "\n",
    "np.random.seed(65)#65 the best #41 #59 #10 #18 #21 #33 #24 #25 #40 #49 #maybe 88 #pretendent 89\n",
    "\n",
    "function = 'relu'\n",
    "result='softmax'\n",
    "input_shape = images[0].shape\n",
    "print(input_shape)\n",
    "model = Sequential()\n",
    "\n",
    "model.add(Conv2D(30,(3,3),input_shape=input_shape))\n",
    "model.add(Activation(function))\n",
    "model.add(MaxPooling2D(3,3))\n",
    "\n",
    "\n",
    "model.add(Flatten())\n",
    "model.add(Dense(50))\n",
    "model.add(Activation(function))\n",
    "model.add(Dense(30))\n",
    "model.add(Activation(function))\n",
    "model.add(Dense(2,activation=result))"
   ]
  },
  {
   "cell_type": "code",
   "execution_count": 20,
   "metadata": {},
   "outputs": [
    {
     "name": "stdout",
     "output_type": "stream",
     "text": [
      "_________________________________________________________________\n",
      "Layer (type)                 Output Shape              Param #   \n",
      "=================================================================\n",
      "conv2d_1 (Conv2D)            (None, 129, 341, 30)      300       \n",
      "_________________________________________________________________\n",
      "activation_1 (Activation)    (None, 129, 341, 30)      0         \n",
      "_________________________________________________________________\n",
      "max_pooling2d_1 (MaxPooling2 (None, 43, 113, 30)       0         \n",
      "_________________________________________________________________\n",
      "flatten_1 (Flatten)          (None, 145770)            0         \n",
      "_________________________________________________________________\n",
      "dense_1 (Dense)              (None, 50)                7288550   \n",
      "_________________________________________________________________\n",
      "activation_2 (Activation)    (None, 50)                0         \n",
      "_________________________________________________________________\n",
      "dense_2 (Dense)              (None, 30)                1530      \n",
      "_________________________________________________________________\n",
      "activation_3 (Activation)    (None, 30)                0         \n",
      "_________________________________________________________________\n",
      "dense_3 (Dense)              (None, 2)                 62        \n",
      "=================================================================\n",
      "Total params: 7,290,442\n",
      "Trainable params: 7,290,442\n",
      "Non-trainable params: 0\n",
      "_________________________________________________________________\n"
     ]
    }
   ],
   "source": [
    "model.summary()"
   ]
  },
  {
   "cell_type": "code",
   "execution_count": 21,
   "metadata": {},
   "outputs": [
    {
     "name": "stderr",
     "output_type": "stream",
     "text": [
      "W1205 16:51:20.700700 12628 deprecation_wrapper.py:119] From c:\\users\\cdumitrascu\\.conda\\envs\\pythoncompvision\\lib\\site-packages\\keras\\optimizers.py:790: The name tf.train.Optimizer is deprecated. Please use tf.compat.v1.train.Optimizer instead.\n",
      "\n",
      "W1205 16:51:20.708706 12628 deprecation_wrapper.py:119] From c:\\users\\cdumitrascu\\.conda\\envs\\pythoncompvision\\lib\\site-packages\\keras\\backend\\tensorflow_backend.py:3295: The name tf.log is deprecated. Please use tf.math.log instead.\n",
      "\n"
     ]
    }
   ],
   "source": [
    "from  keras import optimizers\n",
    "model.compile(optimizers.Adam(lr=0.00001),loss=\"categorical_crossentropy\", metrics=[\"accuracy\"]) "
   ]
  },
  {
   "cell_type": "code",
   "execution_count": 22,
   "metadata": {},
   "outputs": [],
   "source": [
    "from sklearn.model_selection import train_test_split\n",
    "from keras.utils import to_categorical\n",
    "X_train, X_test, y_train, y_test = train_test_split(images, y_labels, test_size=0.33, random_state=42)"
   ]
  },
  {
   "cell_type": "code",
   "execution_count": 23,
   "metadata": {
    "scrolled": false
   },
   "outputs": [
    {
     "name": "stderr",
     "output_type": "stream",
     "text": [
      "W1205 16:51:21.236728 12628 deprecation.py:323] From c:\\users\\cdumitrascu\\.conda\\envs\\pythoncompvision\\lib\\site-packages\\tensorflow\\python\\ops\\math_grad.py:1250: add_dispatch_support.<locals>.wrapper (from tensorflow.python.ops.array_ops) is deprecated and will be removed in a future version.\n",
      "Instructions for updating:\n",
      "Use tf.where in 2.0, which has the same broadcast rule as np.where\n",
      "W1205 16:51:21.362727 12628 deprecation_wrapper.py:119] From c:\\users\\cdumitrascu\\.conda\\envs\\pythoncompvision\\lib\\site-packages\\keras\\backend\\tensorflow_backend.py:986: The name tf.assign_add is deprecated. Please use tf.compat.v1.assign_add instead.\n",
      "\n"
     ]
    },
    {
     "name": "stdout",
     "output_type": "stream",
     "text": [
      "Epoch 1/20\n",
      "111/111 [==============================] - 2s 20ms/step - loss: 4.0207 - acc: 0.5045\n",
      "Epoch 2/20\n",
      "111/111 [==============================] - 2s 14ms/step - loss: 1.4514 - acc: 0.7477\n",
      "Epoch 3/20\n",
      "111/111 [==============================] - 2s 16ms/step - loss: 0.6128 - acc: 0.8198\n",
      "Epoch 4/20\n",
      "111/111 [==============================] - 2s 15ms/step - loss: 0.1407 - acc: 0.9369\n",
      "Epoch 5/20\n",
      "111/111 [==============================] - 2s 15ms/step - loss: 0.0395 - acc: 1.0000\n",
      "Epoch 6/20\n",
      "111/111 [==============================] - 2s 15ms/step - loss: 0.0279 - acc: 0.9910\n",
      "Epoch 7/20\n",
      "111/111 [==============================] - 2s 15ms/step - loss: 0.0121 - acc: 1.0000\n",
      "Epoch 8/20\n",
      "111/111 [==============================] - 2s 15ms/step - loss: 0.0076 - acc: 1.0000\n",
      "Epoch 9/20\n",
      "111/111 [==============================] - 2s 14ms/step - loss: 0.0058 - acc: 1.0000\n",
      "Epoch 10/20\n",
      "111/111 [==============================] - 2s 14ms/step - loss: 0.0047 - acc: 1.0000\n",
      "Epoch 11/20\n",
      "111/111 [==============================] - 2s 14ms/step - loss: 0.0035 - acc: 1.0000\n",
      "Epoch 12/20\n",
      "111/111 [==============================] - 2s 15ms/step - loss: 0.0029 - acc: 1.0000\n",
      "Epoch 13/20\n",
      "111/111 [==============================] - 2s 14ms/step - loss: 0.0025 - acc: 1.0000\n",
      "Epoch 14/20\n",
      "111/111 [==============================] - 2s 14ms/step - loss: 0.0021 - acc: 1.0000\n",
      "Epoch 15/20\n",
      "111/111 [==============================] - 2s 14ms/step - loss: 0.0019 - acc: 1.0000\n",
      "Epoch 16/20\n",
      "111/111 [==============================] - 2s 14ms/step - loss: 0.0017 - acc: 1.0000\n",
      "Epoch 17/20\n",
      "111/111 [==============================] - 2s 14ms/step - loss: 0.0016 - acc: 1.0000\n",
      "Epoch 18/20\n",
      "111/111 [==============================] - 2s 14ms/step - loss: 0.0015 - acc: 1.0000\n",
      "Epoch 19/20\n",
      "111/111 [==============================] - 2s 14ms/step - loss: 0.0014 - acc: 1.0000\n",
      "Epoch 20/20\n",
      "111/111 [==============================] - 2s 14ms/step - loss: 0.0013 - acc: 1.0000\n"
     ]
    },
    {
     "data": {
      "text/plain": [
       "<keras.callbacks.History at 0x23cec877630>"
      ]
     },
     "execution_count": 23,
     "metadata": {},
     "output_type": "execute_result"
    }
   ],
   "source": [
    "from keras.utils import to_categorical\n",
    "model.fit(images,to_categorical(y_labels),epochs=20,verbose=True)"
   ]
  },
  {
   "cell_type": "markdown",
   "metadata": {},
   "source": [
    "##### np.random.set_state(statre)"
   ]
  },
  {
   "cell_type": "code",
   "execution_count": null,
   "metadata": {},
   "outputs": [],
   "source": [
    "predicted = model.predict(X_test)"
   ]
  },
  {
   "cell_type": "code",
   "execution_count": null,
   "metadata": {},
   "outputs": [],
   "source": [
    "model.evaluate(images,to_categorical(y_labels))"
   ]
  },
  {
   "cell_type": "code",
   "execution_count": 166,
   "metadata": {},
   "outputs": [
    {
     "name": "stdout",
     "output_type": "stream",
     "text": [
      "Saved model to disk\n"
     ]
    }
   ],
   "source": [
    "from keras.models import model_from_json\n",
    "\n",
    "model_json = model.to_json()\n",
    "with open(\"model.json\", \"w\") as json_file:\n",
    "    json_file.write(model_json)\n",
    "# serialize weights to HDF5\n",
    "model.save_weights(\"model.h5\")\n",
    "print(\"Saved model to disk\")"
   ]
  },
  {
   "cell_type": "code",
   "execution_count": 167,
   "metadata": {},
   "outputs": [
    {
     "name": "stdout",
     "output_type": "stream",
     "text": [
      "Loaded model from disk\n"
     ]
    }
   ],
   "source": [
    "from keras.models import model_from_json\n",
    "json_file = open('model.json', 'r')\n",
    "loaded_model_json = json_file.read()\n",
    "json_file.close()\n",
    "model = model_from_json(loaded_model_json)\n",
    "# load weights into new model\n",
    "model.load_weights(\"model.h5\")\n",
    "print(\"Loaded model from disk\")"
   ]
  },
  {
   "cell_type": "code",
   "execution_count": 168,
   "metadata": {},
   "outputs": [],
   "source": [
    "from keras import optimizers\n",
    "model.compile(optimizers.Adam(lr=0.00001),loss=\"categorical_crossentropy\", metrics=[\"accuracy\"]) "
   ]
  },
  {
   "cell_type": "code",
   "execution_count": null,
   "metadata": {},
   "outputs": [],
   "source": [
    "loaded_model.evaluate(images,to_categorical(y_labels))"
   ]
  },
  {
   "cell_type": "code",
   "execution_count": null,
   "metadata": {},
   "outputs": [],
   "source": [
    "show(images[0])"
   ]
  },
  {
   "cell_type": "code",
   "execution_count": null,
   "metadata": {},
   "outputs": [],
   "source": []
  },
  {
   "cell_type": "code",
   "execution_count": null,
   "metadata": {},
   "outputs": [],
   "source": [
    "def resize_image(img,c,d):\n",
    "    if img.shape[0] > c and img.shape[1] >d:\n",
    "        return np.array(cv.resize(img,(c,d)))\n",
    "    if img.shape[0] > c:\n",
    "        return np.array(cv.resize(img,(c,img.shape[1])))\n",
    "    if img.shape[1] > d:\n",
    "        return np.array(cv.resize(img,(img.shape[0],d)))\n",
    "    return np.array(img)"
   ]
  },
  {
   "cell_type": "code",
   "execution_count": null,
   "metadata": {},
   "outputs": [],
   "source": [
    "train1 = []\n",
    "for x in dataSet[4][0]:\n",
    "    train1.append(x)\n",
    "for x in dataSet[4][1]:\n",
    "    train1.append(x)\n",
    "    \n",
    "train_data1 = pd.DataFrame({'img':train1})\n",
    "train_data1['img']=train_data1['img'].to_numpy()\n",
    "\n",
    "\n",
    "y_labels1 = np.zeros(len(dataSet[4][0])+len(dataSet[4][1]))\n",
    "y_labels1 = y_labels1.astype('bool')\n",
    "y_labels1[len(dataSet[4][0]):] = 1\n",
    "\n",
    "\n",
    "plt.imshow(train_data1['img'][0])\n",
    "show(train_data1['img'][0])\n",
    "\n",
    "\n",
    "train_data1['img'] = train_data1['img'].apply(lambda x: add_border(Image.fromarray(x),border=((d-x.shape[1])/2,(c-x.shape[0])/2,(d-x.shape[1])/2,(c-x.shape[0])/2)))\n",
    "train_data1['img'] = train_data1['img'].apply(lambda x: np.asarray(x))"
   ]
  },
  {
   "cell_type": "code",
   "execution_count": null,
   "metadata": {},
   "outputs": [],
   "source": [
    "show(train_data1['img'][0])"
   ]
  },
  {
   "cell_type": "code",
   "execution_count": null,
   "metadata": {},
   "outputs": [],
   "source": [
    "show(train_data['img'][2])"
   ]
  },
  {
   "cell_type": "code",
   "execution_count": null,
   "metadata": {},
   "outputs": [],
   "source": [
    "show(dataSet[4][0][0])"
   ]
  },
  {
   "cell_type": "code",
   "execution_count": null,
   "metadata": {},
   "outputs": [],
   "source": [
    "images = [x for x in train_data1['img']]"
   ]
  },
  {
   "cell_type": "code",
   "execution_count": null,
   "metadata": {},
   "outputs": [],
   "source": [
    "images = np.array(images)\n",
    "images = images[...,np.newaxis]\n",
    "print(images.shape)"
   ]
  },
  {
   "cell_type": "code",
   "execution_count": null,
   "metadata": {},
   "outputs": [],
   "source": [
    "y_labels1=y_labels1[...,np.newaxis]\n",
    "show(images[0])"
   ]
  },
  {
   "cell_type": "code",
   "execution_count": null,
   "metadata": {},
   "outputs": [],
   "source": [
    "X1_train, X1_test, y1_train, y1_test = train_test_split(images, y_labels1, test_size=0.33, random_state=42)"
   ]
  },
  {
   "cell_type": "code",
   "execution_count": null,
   "metadata": {},
   "outputs": [],
   "source": [
    "model.fit(X1_train,to_categorical(y1_train),validation_data=(X1_test,to_categorical(y1_test)),epochs=20,verbose=True)"
   ]
  },
  {
   "cell_type": "code",
   "execution_count": null,
   "metadata": {},
   "outputs": [],
   "source": [
    "model.evaluate(images,to_categorical(y_labels1))"
   ]
  },
  {
   "cell_type": "code",
   "execution_count": null,
   "metadata": {},
   "outputs": [],
   "source": [
    "show(images[1])"
   ]
  },
  {
   "cell_type": "code",
   "execution_count": null,
   "metadata": {},
   "outputs": [],
   "source": [
    "test = [images[]]\n",
    "test=np.array(test)\n",
    "if np.argmax(model.predict(test),axis=1)[0] == 0:\n",
    "    print(\"forged\")\n",
    "else:\n",
    "    print(\"real\")"
   ]
  },
  {
   "cell_type": "code",
   "execution_count": 24,
   "metadata": {},
   "outputs": [],
   "source": [
    "dataset_folder =r'Dataset_Signature_Final/DataSet/'\n",
    "desired_folders = ['dataset5/']\n",
    "folder_types = ['test']\n",
    "\n"
   ]
  },
  {
   "cell_type": "code",
   "execution_count": 25,
   "metadata": {},
   "outputs": [],
   "source": [
    "import os\n",
    "dataSet= []\n",
    "for y in desired_folders:\n",
    "    aux = []\n",
    "    for z in folder_types:\n",
    "        temp = []\n",
    "        for root,dirr,file in os.walk(dataset_folder+y+z):\n",
    "            for x in file:\n",
    "                a = cv.imread(os.path.join(dataset_folder,y,z,x))\n",
    "                a = cv.GaussianBlur(a,(3,3),0)\n",
    "                a = cv.cvtColor(a, cv.COLOR_BGR2GRAY)\n",
    "                a = cv.Laplacian(a,cv.CV_16S,ksize=3)\n",
    "                a = cv.convertScaleAbs(a)\n",
    "                a = np.array(a)\n",
    "                temp.append(a)\n",
    "            break\n",
    "        temp = np.array(temp)\n",
    "        aux.append(temp)\n",
    "    dataSet.append(aux)\n"
   ]
  },
  {
   "cell_type": "code",
   "execution_count": 26,
   "metadata": {},
   "outputs": [],
   "source": [
    "show(dataSet[0][0][5])"
   ]
  },
  {
   "cell_type": "code",
   "execution_count": 27,
   "metadata": {},
   "outputs": [],
   "source": [
    "for i in range(0,9):\n",
    "    dataSet[0][0][i] = np.array(add_border(Image.fromarray(dataSet[0][0][i]),border=((d-dataSet[0][0][i].shape[1])/2,(c-dataSet[0][0][i].shape[0])/2,(d-dataSet[0][0][i].shape[1])/2,(c-dataSet[0][0][i].shape[0])/2)))"
   ]
  },
  {
   "cell_type": "code",
   "execution_count": 28,
   "metadata": {},
   "outputs": [],
   "source": [
    "show(dataSet[0][0][0])"
   ]
  },
  {
   "cell_type": "code",
   "execution_count": 29,
   "metadata": {},
   "outputs": [],
   "source": [
    "img = [x for x in dataSet[0][0]]"
   ]
  },
  {
   "cell_type": "code",
   "execution_count": 30,
   "metadata": {},
   "outputs": [
    {
     "data": {
      "text/plain": [
       "(9, 131, 343)"
      ]
     },
     "execution_count": 30,
     "metadata": {},
     "output_type": "execute_result"
    }
   ],
   "source": [
    "img = np.array(img)\n",
    "img.shape"
   ]
  },
  {
   "cell_type": "code",
   "execution_count": 31,
   "metadata": {},
   "outputs": [],
   "source": [
    "img = img[...,np.newaxis]"
   ]
  },
  {
   "cell_type": "code",
   "execution_count": 32,
   "metadata": {},
   "outputs": [
    {
     "data": {
      "text/plain": [
       "(9, 131, 343, 1)"
      ]
     },
     "execution_count": 32,
     "metadata": {},
     "output_type": "execute_result"
    }
   ],
   "source": [
    "img.shape"
   ]
  },
  {
   "cell_type": "code",
   "execution_count": 33,
   "metadata": {},
   "outputs": [],
   "source": [
    "test = img[4:6,:,:,:]"
   ]
  },
  {
   "cell_type": "code",
   "execution_count": 34,
   "metadata": {},
   "outputs": [],
   "source": [
    "show(test[0])"
   ]
  },
  {
   "cell_type": "code",
   "execution_count": 35,
   "metadata": {},
   "outputs": [],
   "source": [
    "test_labels = [[1],[0]]"
   ]
  },
  {
   "cell_type": "code",
   "execution_count": 36,
   "metadata": {},
   "outputs": [],
   "source": [
    "test_labels= np.array(test_labels)"
   ]
  },
  {
   "cell_type": "code",
   "execution_count": 37,
   "metadata": {},
   "outputs": [
    {
     "data": {
      "text/plain": [
       "(2, 131, 343, 1)"
      ]
     },
     "execution_count": 37,
     "metadata": {},
     "output_type": "execute_result"
    }
   ],
   "source": [
    "test.shape"
   ]
  },
  {
   "cell_type": "code",
   "execution_count": 38,
   "metadata": {},
   "outputs": [
    {
     "data": {
      "text/plain": [
       "(2, 1)"
      ]
     },
     "execution_count": 38,
     "metadata": {},
     "output_type": "execute_result"
    }
   ],
   "source": [
    "test_labels.shape"
   ]
  },
  {
   "cell_type": "code",
   "execution_count": 39,
   "metadata": {},
   "outputs": [
    {
     "name": "stdout",
     "output_type": "stream",
     "text": [
      "Epoch 1/1\n",
      "\r",
      "2/2 [==============================] - 0s 71ms/step - loss: 2.8311 - acc: 0.5000\n"
     ]
    },
    {
     "data": {
      "text/plain": [
       "<keras.callbacks.History at 0x23c826ce320>"
      ]
     },
     "execution_count": 39,
     "metadata": {},
     "output_type": "execute_result"
    }
   ],
   "source": [
    "model.fit(test,to_categorical(test_labels),epochs=1)"
   ]
  },
  {
   "cell_type": "code",
   "execution_count": 40,
   "metadata": {},
   "outputs": [],
   "source": [
    "test_labels = np.array([[1],[1],[1],[1],[1],[0],[0],[0],[0]])"
   ]
  },
  {
   "cell_type": "code",
   "execution_count": 41,
   "metadata": {},
   "outputs": [
    {
     "data": {
      "text/plain": [
       "array([1, 1, 1, 1, 1, 0, 0, 0, 0], dtype=int64)"
      ]
     },
     "execution_count": 41,
     "metadata": {},
     "output_type": "execute_result"
    }
   ],
   "source": [
    "np.argmax(model.predict(img),axis=1)\n"
   ]
  },
  {
   "cell_type": "code",
   "execution_count": 42,
   "metadata": {},
   "outputs": [
    {
     "name": "stdout",
     "output_type": "stream",
     "text": [
      "\r",
      "9/9 [==============================] - 0s 8ms/step\n"
     ]
    },
    {
     "data": {
      "text/plain": [
       "[0.07397269457578659, 1.0]"
      ]
     },
     "execution_count": 42,
     "metadata": {},
     "output_type": "execute_result"
    }
   ],
   "source": [
    "model.evaluate(img,to_categorical(test_labels))"
   ]
  },
  {
   "cell_type": "code",
   "execution_count": 43,
   "metadata": {},
   "outputs": [],
   "source": [
    "show(test[0])"
   ]
  },
  {
   "cell_type": "code",
   "execution_count": null,
   "metadata": {},
   "outputs": [],
   "source": [
    "\n"
   ]
  }
 ],
 "metadata": {
  "kernelspec": {
   "display_name": "Python 3",
   "language": "python",
   "name": "python3"
  },
  "language_info": {
   "codemirror_mode": {
    "name": "ipython",
    "version": 3
   },
   "file_extension": ".py",
   "mimetype": "text/x-python",
   "name": "python",
   "nbconvert_exporter": "python",
   "pygments_lexer": "ipython3",
   "version": "3.7.3"
  }
 },
 "nbformat": 4,
 "nbformat_minor": 2
}
